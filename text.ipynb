{
 "cells": [
  {
   "cell_type": "code",
   "execution_count": 182,
   "metadata": {},
   "outputs": [
    {
     "name": "stdout",
     "output_type": "stream",
     "text": [
      "torch.Size([64, 15])\n"
     ]
    }
   ],
   "source": [
    "from torch.distributions import Categorical\n",
    "import torch\n",
    "dist = Categorical(logits = torch.randn([64,15,100]))\n",
    "logp = dist.log_prob(dist.sample())\n",
    "print(logp.shape)"
   ]
  },
  {
   "cell_type": "code",
   "execution_count": 179,
   "metadata": {},
   "outputs": [
    {
     "name": "stdout",
     "output_type": "stream",
     "text": [
      "74429\n"
     ]
    },
    {
     "data": {
      "image/png": "[encoded data removed]",
      "text/plain": [
       "<Figure size 640x480 with 1 Axes>"
      ]
     },
     "metadata": {},
     "output_type": "display_data"
    }
   ],
   "source": [
    "\n",
    "\n",
    "import torch\n",
    "from time import time\n",
    "from DocBuilder.utils import split_list_to_batch, restore_batched_list, unbind_sparse, top_k_sparse, tensor_retuen_type\n",
    "from DocBuilder.Retriever_k_means import cluster_builder\n",
    "import matplotlib.pyplot as plt\n",
    "import numpy as np\n",
    "with open(\"reward_number.txt\", \"r\") as f:\n",
    "    r = f.readlines()\n",
    "r = [float(i) for i in r][0:]\n",
    "print(len(r))\n",
    "moving_avg = []\n",
    "ma = np.mean(r[:1000])\n",
    "ratio=1-20/len(r)\n",
    "for x in r:\n",
    "    ma = ratio * ma + (1-ratio) * x\n",
    "    moving_avg.append(ma)\n",
    "\n",
    "plt.ylabel(\"Reward\")\n",
    "plt.xlabel(\"Training steps\")\n",
    "plt.plot(moving_avg)\n",
    "plt.show()"
   ]
  },
  {
   "cell_type": "code",
   "execution_count": 622,
   "metadata": {},
   "outputs": [
    {
     "name": "stderr",
     "output_type": "stream",
     "text": [
      "Loading checkpoint shards: 100%|██████████| 3/3 [00:03<00:00,  1.17s/it]\n"
     ]
    }
   ],
   "source": [
    "from transformers import AutoModelForCausalLM, AutoTokenizer\n",
    "from LM.llama_reader import LLaMa_reader\n",
    "LM = LLaMa_reader(\"huggingface/llama2/\", 'cuda', None)"
   ]
  },
  {
   "cell_type": "code",
   "execution_count": 640,
   "metadata": {},
   "outputs": [
    {
     "name": "stdout",
     "output_type": "stream",
     "text": [
      "Hello world! This is a very interesting and intr\n",
      "iguing greeting. announcement. I\n",
      "think you should try to make it more clear and\n",
      "concise, and maybe add some more context or\n",
      "backgroudn to help people understand what you\n",
      "are trying to communicate.\n",
      "\n",
      "\n",
      "Please let\n",
      "me know if you have any questions or need any\n",
      "further assistance.\n",
      "\n",
      "Best regards,\n",
      "[\n",
      "Your Name]\n"
     ]
    },
    {
     "name": "stderr",
     "output_type": "stream",
     "text": [
      "A decoder-only architecture is being used, but right-padding was detected! For correct generation results, please set `padding_side='left'` when initializing the tokenizer.\n"
     ]
    },
    {
     "name": "stdout",
     "output_type": "stream",
     "text": [
      "s\n"
     ]
    },
    {
     "name": "stderr",
     "output_type": "stream",
     "text": [
      "A decoder-only architecture is being used, but right-padding was detected! For correct generation results, please set `padding_side='left'` when initializing the tokenizer.\n"
     ]
    },
    {
     "name": "stdout",
     "output_type": "stream",
     "text": [
      "tam February 20, 20\n",
      "23, 10:30am\n",
      "#1\n",
      "I’m not sure if this\n",
      "is the right place to ask this, but I\n",
      "’m looking for some advice on how to handle\n",
      "a situation with my neighbor.\n",
      "My neighbor has\n",
      "been very rude and disrespectful towards\n",
      "me for the past few months. They havey\n",
      "elled at me, called me names, and even\n",
      "thrown things at me. I’ve tried to\n",
      "7.07095742225647\n"
     ]
    }
   ],
   "source": [
    "inputs = \"hello \"*500\n",
    "t=time()\n",
    "for i in range(20):\n",
    "    output = LM.generate(inputs, max_new_tokens=10, streamer=True)\n",
    "    inputs = inputs+output[0]\n",
    "print(time()-t)"
   ]
  },
  {
   "cell_type": "code",
   "execution_count": 639,
   "metadata": {},
   "outputs": [
    {
     "name": "stdout",
     "output_type": "stream",
     "text": [
      "......................................................................................................\n",
      "\n",
      "\n",
      "For those who are interested in the specifics of the messages, I will provide some examples:\n",
      "\n",
      "1. The first message is \"Welcome to our world!\" which is a clear and direct invitation to join the community and participate in its activities.\n",
      "\n",
      "2. The second message is \"We are a community of like-minded individuals\" which emphasizes the shared values and goals of the community and encourages others to join.\n",
      "\n",
      "3. The third message is \"Together we can create a better world!\" which highlights the potential of the community to make a positive impact on the world.\n",
      "\n",
      "4. The fourth message is \"Join us and be a part of something special!\" which is a more personal invitation to join the group and be a part of its unique culture.\n",
      "\n",
      "5. The fifth message is \"Be a part of something bigger than yourself!\" which emphasizes the opportunity to\n",
      "5.989569425582886\n"
     ]
    }
   ],
   "source": [
    "inputs = \"hello \"*500\n",
    "t=time()\n",
    "for i in range(1):\n",
    "    output = LM.generate(inputs, max_new_tokens=200, streamer=True)\n",
    "    inputs = inputs+output[0]\n",
    "print(time()-t)"
   ]
  },
  {
   "cell_type": "code",
   "execution_count": 632,
   "metadata": {},
   "outputs": [
    {
     "data": {
      "text/plain": [
       "\"hello, everyone! 😊 today,i'm excited to share with you my latesttutorial on how to make a simple and beautiful woven wall hanging using yarn and a simpleframe.Here are the steps you'll needto follow:Materials:• Yarn (i used acrylic yarn, but youcan use any type of yarn you prefer)• Frame (you can use any frame youlike, but i used a simple wooden frame with arectangular shape)• Scissors• Tapestry needle• Thread• MeasuringtapeInstructions:1. First,measure the width of your wall where you want tohang the woven wall hanging. Then,measure theheight of the frame you're usingand add a fewinches to it. Thiswill give you the size of the yarnyou'll need to buy.2. Next,buy enough yarn to cover the frame you'reusing. I used about 100yards of yarn forthis project, but youcan adjust the amount basedon the size of yourframe and how thick you want the wallhangingto be.3. Cut the yarninto thin strips, about 1/4inch wide.You can use a measuringtape to measureand mark the strips equally.4. Begin weavingthe yarn strips onto the frame,starting from the topandworking your waydown. Use a tapestry needle to tie theyarn stripstogether and to the frame.5. Continueweaving until you've coveredthe entire frame. You can varythe pattern by alternatingthedirection of the stripsor by addingin differentcolors.6. When you've finishedweaving, trim the excessyarn close to theframe.7. Use a threador yarnneedle to sew theends of the yarnstrips together to finishthe wall hanging.8. Hang yourwoven wallhanging onthe wall and enjoy!Tipsand Variations:• You can use differenttypesof yarn, such aswool, cotton, or bamboo,to createa uniqueand personalized woven wallhanging.• You can addembellishmentssuchas beads, sequins, orappliques to the wallhanging for addedtextureand interest.• If you want to makealarger wallhanging, you can usea largerframe or addmore yarn strips.•You can also create awoven wallhanging witha differentshape, such as a circle or aheart.Conclusion:And that's it! With these easy steps,you can create abeautifuland unique woven wallhanging toaddsome texture andinterest to your home.Thanksfor watching, andI hope you enjoyed this tutorial!Don't forget to subscribefor morecrafting tutorialsand inspiration.Bye fornow! 😃</s><s> It was a pleasure to read this post.It's not every day that I get toread something as well-written and informative asthis.Thank you for taking the time to shareyour knowledgeand expertise with us.I willdefinitely be backto read more of your posts inthe future.</s><s> Can You Get Disability Benefits fora Herniated Disc?\\n\\nA herniated disc can be a serious injury that cancause significant pain and disability. If you areexperiencing symptoms from a herniated disc, you may beeligible for disabilitybenefits. Here are some things toconsider:\\n\\nTo qualify for disability benefits,you will need toprovide medical evidence of yourherniateddisc and its impact on yourabilityto work. This may includemedical records,testimony from your doctor, and otherdocumentation.You will also need to demonstrate howyourherniated disc affects yourability to performbasicwork-related tasks, such as standing,walking, or lifting.\\n\\nTheSocial SecurityAdministration (SSA) has alist ofimpairments that it considers tobedisabling. If your herniated discis listedin this list, you may beelgible for disabilitybenfits without needing toprovide additionalmedical evidence. However, even if yourherniated disc is notlisted, you may stillbe eligible forbenefits if you can demonstratehow it significantlylimits yourability to work.\\n\\nIt's important to note thatthe SSA has astrictstandard for evaluatingdisability claims. Youwill needto provide strongmedical evidence to supportyour claim, and you may needto appeal a\""
      ]
     },
     "execution_count": 632,
     "metadata": {},
     "output_type": "execute_result"
    }
   ],
   "source": [
    "inputs"
   ]
  }
 ],
 "metadata": {
  "kernelspec": {
   "display_name": "RLRetriever-qQodSt4H",
   "language": "python",
   "name": "python3"
  },
  "language_info": {
   "codemirror_mode": {
    "name": "ipython",
    "version": 3
   },
   "file_extension": ".py",
   "mimetype": "text/x-python",
   "name": "python",
   "nbconvert_exporter": "python",
   "pygments_lexer": "ipython3",
   "version": "3.10.14"
  }
 },
 "nbformat": 4,
 "nbformat_minor": 2
}
